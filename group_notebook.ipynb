{
 "cells": [
  {
   "cell_type": "code",
   "execution_count": 2,
   "metadata": {},
   "outputs": [],
   "source": [
    "# Dependencies\n",
    "import numpy as np\n",
    "import pandas as pd\n",
    "import datetime as dt\n",
    "import requests\n",
    "import json\n",
    "\n",
    "from pprint import pprint\n",
    "from matplotlib import style\n",
    "import matplotlib.pyplot as plt\n"
   ]
  },
  {
   "attachments": {},
   "cell_type": "markdown",
   "metadata": {},
   "source": [
    "# Extract: Data Pull"
   ]
  },
  {
   "attachments": {},
   "cell_type": "markdown",
   "metadata": {},
   "source": [
    "## Extract Data & Clean"
   ]
  },
  {
   "attachments": {},
   "cell_type": "markdown",
   "metadata": {},
   "source": [
    "### API Tracking data from CDC"
   ]
  },
  {
   "attachments": {},
   "cell_type": "markdown",
   "metadata": {},
   "source": [
    "#### Max temp days"
   ]
  },
  {
   "cell_type": "code",
   "execution_count": 3,
   "metadata": {},
   "outputs": [],
   "source": [
    "# URL for GET requests to retrieve data\n",
    "version = \"v1\"\n",
    "measureId = 423 # Requires a valid measureID\n",
    "stratificationLevelId = 82 # Requires a valid stratificationLevelId.\n",
    "geographicTypeIdFilter = 1 # Requires a valid geographicTypeID or ALL.\n",
    "geographicItemsFilter = 4 # Filter to retrieve only certain geographicItems.\n",
    "temporalTypeIdFilter = 1 # Requires a valid temporal type id matching temporal items (e.g., 1)\n",
    "temporalItemsFilter = \"2021,2020,2019,2018,2017,2016,2015,2014,2013,2012,2011\" # Requires valid temporal items entries (e.g., 2020) separated by comma.\n",
    "isSmoothed = 0 # 0 not smoothed- most data isn't\n",
    "getFullCoreHolder = 0 # Requires either a one or zero (true or false) for fetching the full core holder. \n",
    "\n",
    "\n",
    "# Build the endpoint URL\n",
    "MaxTempDays_url = f\"https://ephtracking.cdc.gov/apigateway/api/{version}/getCoreHolder/{measureId}/{stratificationLevelId}/{geographicTypeIdFilter}/{geographicItemsFilter}/{temporalTypeIdFilter}/{temporalItemsFilter}/{isSmoothed}/{getFullCoreHolder}?TemperatureHeatIndexId=1&RelativeThresholdId=1\" #{getFullCoreHolder}\n",
    "\n",
    "response = requests.get(MaxTempDays_url).json()\n",
    "\n",
    "# Isolate tableResult for easy reading\n",
    "data = response[\"tableResult\"]\n",
    "\n",
    "#for index, element in enumerate(data):\n",
    "#  print(index, \":\", element)"
   ]
  },
  {
   "cell_type": "code",
   "execution_count": 4,
   "metadata": {},
   "outputs": [
    {
     "data": {
      "text/html": [
       "<div>\n",
       "<style scoped>\n",
       "    .dataframe tbody tr th:only-of-type {\n",
       "        vertical-align: middle;\n",
       "    }\n",
       "\n",
       "    .dataframe tbody tr th {\n",
       "        vertical-align: top;\n",
       "    }\n",
       "\n",
       "    .dataframe thead th {\n",
       "        text-align: right;\n",
       "    }\n",
       "</style>\n",
       "<table border=\"1\" class=\"dataframe\">\n",
       "  <thead>\n",
       "    <tr style=\"text-align: right;\">\n",
       "      <th></th>\n",
       "      <th>county</th>\n",
       "      <th>countyID</th>\n",
       "      <th>year</th>\n",
       "      <th>ext_heat_days</th>\n",
       "    </tr>\n",
       "  </thead>\n",
       "  <tbody>\n",
       "    <tr>\n",
       "      <th>0</th>\n",
       "      <td>Apache</td>\n",
       "      <td>04001</td>\n",
       "      <td>2011</td>\n",
       "      <td>19</td>\n",
       "    </tr>\n",
       "    <tr>\n",
       "      <th>1</th>\n",
       "      <td>Apache</td>\n",
       "      <td>04001</td>\n",
       "      <td>2012</td>\n",
       "      <td>19</td>\n",
       "    </tr>\n",
       "    <tr>\n",
       "      <th>2</th>\n",
       "      <td>Apache</td>\n",
       "      <td>04001</td>\n",
       "      <td>2013</td>\n",
       "      <td>18</td>\n",
       "    </tr>\n",
       "    <tr>\n",
       "      <th>3</th>\n",
       "      <td>Apache</td>\n",
       "      <td>04001</td>\n",
       "      <td>2014</td>\n",
       "      <td>5</td>\n",
       "    </tr>\n",
       "    <tr>\n",
       "      <th>4</th>\n",
       "      <td>Apache</td>\n",
       "      <td>04001</td>\n",
       "      <td>2015</td>\n",
       "      <td>18</td>\n",
       "    </tr>\n",
       "    <tr>\n",
       "      <th>...</th>\n",
       "      <td>...</td>\n",
       "      <td>...</td>\n",
       "      <td>...</td>\n",
       "      <td>...</td>\n",
       "    </tr>\n",
       "    <tr>\n",
       "      <th>160</th>\n",
       "      <td>Yuma</td>\n",
       "      <td>04027</td>\n",
       "      <td>2017</td>\n",
       "      <td>21</td>\n",
       "    </tr>\n",
       "    <tr>\n",
       "      <th>161</th>\n",
       "      <td>Yuma</td>\n",
       "      <td>04027</td>\n",
       "      <td>2018</td>\n",
       "      <td>19</td>\n",
       "    </tr>\n",
       "    <tr>\n",
       "      <th>162</th>\n",
       "      <td>Yuma</td>\n",
       "      <td>04027</td>\n",
       "      <td>2019</td>\n",
       "      <td>22</td>\n",
       "    </tr>\n",
       "    <tr>\n",
       "      <th>163</th>\n",
       "      <td>Yuma</td>\n",
       "      <td>04027</td>\n",
       "      <td>2020</td>\n",
       "      <td>36</td>\n",
       "    </tr>\n",
       "    <tr>\n",
       "      <th>164</th>\n",
       "      <td>Yuma</td>\n",
       "      <td>04027</td>\n",
       "      <td>2021</td>\n",
       "      <td>24</td>\n",
       "    </tr>\n",
       "  </tbody>\n",
       "</table>\n",
       "<p>165 rows × 4 columns</p>\n",
       "</div>"
      ],
      "text/plain": [
       "     county countyID  year ext_heat_days\n",
       "0    Apache    04001  2011            19\n",
       "1    Apache    04001  2012            19\n",
       "2    Apache    04001  2013            18\n",
       "3    Apache    04001  2014             5\n",
       "4    Apache    04001  2015            18\n",
       "..      ...      ...   ...           ...\n",
       "160    Yuma    04027  2017            21\n",
       "161    Yuma    04027  2018            19\n",
       "162    Yuma    04027  2019            22\n",
       "163    Yuma    04027  2020            36\n",
       "164    Yuma    04027  2021            24\n",
       "\n",
       "[165 rows x 4 columns]"
      ]
     },
     "execution_count": 4,
     "metadata": {},
     "output_type": "execute_result"
    }
   ],
   "source": [
    "# Create an empty list to hold summaries\n",
    "summary_list = []\n",
    "\n",
    "# loop through the data\n",
    "for bob in data:\n",
    "    county = bob[\"geo\"]\n",
    "    countyID= bob[\"geoId\"]\n",
    "    year = bob[\"temporal\"]\n",
    "    days = bob[\"dataValue\"]\n",
    "    \n",
    "    # create summary dictionary\n",
    "    summary_dict = {\n",
    "        \"county\": county,\n",
    "        \"countyID\" : countyID,\n",
    "        \"year\": year,\n",
    "        \"ext_heat_days\" : days\n",
    "    }\n",
    "    \n",
    "    # Append the sumary dict to the list\n",
    "    summary_list.append(summary_dict)\n",
    "\n",
    "EHD = pd.DataFrame(summary_list) \n",
    "EHD"
   ]
  },
  {
   "cell_type": "code",
   "execution_count": 5,
   "metadata": {},
   "outputs": [
    {
     "data": {
      "text/html": [
       "<div>\n",
       "<style scoped>\n",
       "    .dataframe tbody tr th:only-of-type {\n",
       "        vertical-align: middle;\n",
       "    }\n",
       "\n",
       "    .dataframe tbody tr th {\n",
       "        vertical-align: top;\n",
       "    }\n",
       "\n",
       "    .dataframe thead th {\n",
       "        text-align: right;\n",
       "    }\n",
       "</style>\n",
       "<table border=\"1\" class=\"dataframe\">\n",
       "  <thead>\n",
       "    <tr style=\"text-align: right;\">\n",
       "      <th></th>\n",
       "      <th>index</th>\n",
       "      <th>county</th>\n",
       "      <th>countyID</th>\n",
       "      <th>year</th>\n",
       "      <th>ext_heat_days</th>\n",
       "    </tr>\n",
       "  </thead>\n",
       "  <tbody>\n",
       "    <tr>\n",
       "      <th>0</th>\n",
       "      <td>0</td>\n",
       "      <td>Apache</td>\n",
       "      <td>04001</td>\n",
       "      <td>2011</td>\n",
       "      <td>19</td>\n",
       "    </tr>\n",
       "    <tr>\n",
       "      <th>1</th>\n",
       "      <td>1</td>\n",
       "      <td>Apache</td>\n",
       "      <td>04001</td>\n",
       "      <td>2012</td>\n",
       "      <td>19</td>\n",
       "    </tr>\n",
       "    <tr>\n",
       "      <th>2</th>\n",
       "      <td>2</td>\n",
       "      <td>Apache</td>\n",
       "      <td>04001</td>\n",
       "      <td>2013</td>\n",
       "      <td>18</td>\n",
       "    </tr>\n",
       "    <tr>\n",
       "      <th>3</th>\n",
       "      <td>3</td>\n",
       "      <td>Apache</td>\n",
       "      <td>04001</td>\n",
       "      <td>2014</td>\n",
       "      <td>5</td>\n",
       "    </tr>\n",
       "    <tr>\n",
       "      <th>4</th>\n",
       "      <td>4</td>\n",
       "      <td>Apache</td>\n",
       "      <td>04001</td>\n",
       "      <td>2015</td>\n",
       "      <td>18</td>\n",
       "    </tr>\n",
       "  </tbody>\n",
       "</table>\n",
       "</div>"
      ],
      "text/plain": [
       "   index  county countyID  year ext_heat_days\n",
       "0      0  Apache    04001  2011            19\n",
       "1      1  Apache    04001  2012            19\n",
       "2      2  Apache    04001  2013            18\n",
       "3      3  Apache    04001  2014             5\n",
       "4      4  Apache    04001  2015            18"
      ]
     },
     "execution_count": 5,
     "metadata": {},
     "output_type": "execute_result"
    }
   ],
   "source": [
    "EHD = EHD.reset_index()\n",
    "EHD.head()"
   ]
  },
  {
   "cell_type": "code",
   "execution_count": 6,
   "metadata": {},
   "outputs": [
    {
     "data": {
      "text/html": [
       "<div>\n",
       "<style scoped>\n",
       "    .dataframe tbody tr th:only-of-type {\n",
       "        vertical-align: middle;\n",
       "    }\n",
       "\n",
       "    .dataframe tbody tr th {\n",
       "        vertical-align: top;\n",
       "    }\n",
       "\n",
       "    .dataframe thead th {\n",
       "        text-align: right;\n",
       "    }\n",
       "</style>\n",
       "<table border=\"1\" class=\"dataframe\">\n",
       "  <thead>\n",
       "    <tr style=\"text-align: right;\">\n",
       "      <th></th>\n",
       "      <th>key</th>\n",
       "      <th>county</th>\n",
       "      <th>countyID</th>\n",
       "      <th>year</th>\n",
       "      <th>ext_heat_days</th>\n",
       "    </tr>\n",
       "  </thead>\n",
       "  <tbody>\n",
       "    <tr>\n",
       "      <th>0</th>\n",
       "      <td>0</td>\n",
       "      <td>Apache</td>\n",
       "      <td>04001</td>\n",
       "      <td>2011</td>\n",
       "      <td>19</td>\n",
       "    </tr>\n",
       "    <tr>\n",
       "      <th>1</th>\n",
       "      <td>1</td>\n",
       "      <td>Apache</td>\n",
       "      <td>04001</td>\n",
       "      <td>2012</td>\n",
       "      <td>19</td>\n",
       "    </tr>\n",
       "    <tr>\n",
       "      <th>2</th>\n",
       "      <td>2</td>\n",
       "      <td>Apache</td>\n",
       "      <td>04001</td>\n",
       "      <td>2013</td>\n",
       "      <td>18</td>\n",
       "    </tr>\n",
       "    <tr>\n",
       "      <th>3</th>\n",
       "      <td>3</td>\n",
       "      <td>Apache</td>\n",
       "      <td>04001</td>\n",
       "      <td>2014</td>\n",
       "      <td>5</td>\n",
       "    </tr>\n",
       "    <tr>\n",
       "      <th>4</th>\n",
       "      <td>4</td>\n",
       "      <td>Apache</td>\n",
       "      <td>04001</td>\n",
       "      <td>2015</td>\n",
       "      <td>18</td>\n",
       "    </tr>\n",
       "  </tbody>\n",
       "</table>\n",
       "</div>"
      ],
      "text/plain": [
       "   key  county countyID  year ext_heat_days\n",
       "0    0  Apache    04001  2011            19\n",
       "1    1  Apache    04001  2012            19\n",
       "2    2  Apache    04001  2013            18\n",
       "3    3  Apache    04001  2014             5\n",
       "4    4  Apache    04001  2015            18"
      ]
     },
     "execution_count": 6,
     "metadata": {},
     "output_type": "execute_result"
    }
   ],
   "source": [
    "EHD.rename(columns={'index':'key'}, inplace=True)\n",
    "EHD.head()"
   ]
  },
  {
   "cell_type": "code",
   "execution_count": 7,
   "metadata": {},
   "outputs": [],
   "source": [
    "# Export the cleaned DataFrame as a CSV file. \n",
    "EHD.to_csv(\"data/ExtremeHeatDays.csv\", encoding='utf8', index=False)"
   ]
  },
  {
   "attachments": {},
   "cell_type": "markdown",
   "metadata": {},
   "source": [
    "## CSV to JSON files"
   ]
  },
  {
   "cell_type": "code",
   "execution_count": 8,
   "metadata": {},
   "outputs": [],
   "source": [
    "from json import loads, dumps"
   ]
  },
  {
   "cell_type": "code",
   "execution_count": 9,
   "metadata": {},
   "outputs": [],
   "source": [
    "df = EHD"
   ]
  },
  {
   "cell_type": "code",
   "execution_count": 10,
   "metadata": {},
   "outputs": [
    {
     "name": "stdout",
     "output_type": "stream",
     "text": [
      "('[{\"key\":0,\"county\":\"Apache\",\"countyID\":\"04001\",\"year\":\"2011\",\"ext_heat_days\":\"19\"},{\"key\":1,\"county\":\"Apache\",\"countyID\":\"04001\",\"year\":\"2012\",\"ext_heat_days\":\"19\"},{\"key\":2,\"county\":\"Apache\",\"countyID\":\"04001\",\"year\":\"2013\",\"ext_heat_days\":\"18\"},{\"key\":3,\"county\":\"Apache\",\"countyID\":\"04001\",\"year\":\"2014\",\"ext_heat_days\":\"5\"},{\"key\":4,\"county\":\"Apache\",\"countyID\":\"04001\",\"year\":\"2015\",\"ext_heat_days\":\"18\"},{\"key\":5,\"county\":\"Apache\",\"countyID\":\"04001\",\"year\":\"2016\",\"ext_heat_days\":\"16\"},{\"key\":6,\"county\":\"Apache\",\"countyID\":\"04001\",\"year\":\"2017\",\"ext_heat_days\":\"16\"},{\"key\":7,\"county\":\"Apache\",\"countyID\":\"04001\",\"year\":\"2018\",\"ext_heat_days\":\"31\"},{\"key\":8,\"county\":\"Apache\",\"countyID\":\"04001\",\"year\":\"2019\",\"ext_heat_days\":\"23\"},{\"key\":9,\"county\":\"Apache\",\"countyID\":\"04001\",\"year\":\"2020\",\"ext_heat_days\":\"38\"},{\"key\":10,\"county\":\"Apache\",\"countyID\":\"04001\",\"year\":\"2021\",\"ext_heat_days\":\"24\"},{\"key\":11,\"county\":\"Cochise\",\"countyID\":\"04003\",\"year\":\"2011\",\"ext_heat_days\":\"34\"},{\"key\":12,\"county\":\"Cochise\",\"countyID\":\"04003\",\"year\":\"2012\",\"ext_heat_days\":\"25\"},{\"key\":13,\"county\":\"Cochise\",\"countyID\":\"04003\",\"year\":\"2013\",\"ext_heat_days\":\"19\"},{\"key\":14,\"county\":\"Cochise\",\"countyID\":\"04003\",\"year\":\"2014\",\"ext_heat_days\":\"4\"},{\"key\":15,\"county\":\"Cochise\",\"countyID\":\"04003\",\"year\":\"2015\",\"ext_heat_days\":\"14\"},{\"key\":16,\"county\":\"Cochise\",\"countyID\":\"04003\",\"year\":\"2016\",\"ext_heat_days\":\"19\"},{\"key\":17,\"county\":\"Cochise\",\"countyID\":\"04003\",\"year\":\"2017\",\"ext_heat_days\":\"17\"},{\"key\":18,\"county\":\"Cochise\",\"countyID\":\"04003\",\"year\":\"2018\",\"ext_heat_days\":\"18\"},{\"key\":19,\"county\":\"Cochise\",\"countyID\":\"04003\",\"year\":\"2019\",\"ext_heat_days\":\"26\"},{\"key\":20,\"county\":\"Cochise\",\"countyID\":\"04003\",\"year\":\"2020\",\"ext_heat_days\":\"35\"},{\"key\":21,\"county\":\"Cochise\",\"countyID\":\"04003\",\"year\":\"2021\",\"ext_heat_days\":\"16\"},{\"key\":22,\"county\":\"Coconino\",\"countyID\":\"04005\",\"year\":\"2011\",\"ext_heat_days\":\"17\"},{\"key\":23,\"county\":\"Coconino\",\"countyID\":\"04005\",\"year\":\"2012\",\"ext_heat_days\":\"20\"},{\"key\":24,\"county\":\"Coconino\",\"countyID\":\"04005\",\"year\":\"2013\",\"ext_heat_days\":\"16\"},{\"key\":25,\"county\":\"Coconino\",\"countyID\":\"04005\",\"year\":\"2014\",\"ext_heat_days\":\"4\"},{\"key\":26,\"county\":\"Coconino\",\"countyID\":\"04005\",\"year\":\"2015\",\"ext_heat_days\":\"19\"},{\"key\":27,\"county\":\"Coconino\",\"countyID\":\"04005\",\"year\":\"2016\",\"ext_heat_days\":\"17\"},{\"key\":28,\"county\":\"Coconino\",\"countyID\":\"04005\",\"year\":\"2017\",\"ext_heat_days\":\"16\"},{\"key\":29,\"county\":\"Coconino\",\"countyID\":\"04005\",\"year\":\"2018\",\"ext_heat_days\":\"28\"},{\"key\":30,\"county\":\"Coconino\",\"countyID\":\"04005\",\"year\":\"2019\",\"ext_heat_days\":\"22\"},{\"key\":31,\"county\":\"Coconino\",\"countyID\":\"04005\",\"year\":\"2020\",\"ext_heat_days\":\"36\"},{\"key\":32,\"county\":\"Coconino\",\"countyID\":\"04005\",\"year\":\"2021\",\"ext_heat_days\":\"22\"},{\"key\":33,\"county\":\"Gila\",\"countyID\":\"04007\",\"year\":\"2011\",\"ext_heat_days\":\"30\"},{\"key\":34,\"county\":\"Gila\",\"countyID\":\"04007\",\"year\":\"2012\",\"ext_heat_days\":\"27\"},{\"key\":35,\"county\":\"Gila\",\"countyID\":\"04007\",\"year\":\"2013\",\"ext_heat_days\":\"16\"},{\"key\":36,\"county\":\"Gila\",\"countyID\":\"04007\",\"year\":\"2014\",\"ext_heat_days\":\"3\"},{\"key\":37,\"county\":\"Gila\",\"countyID\":\"04007\",\"year\":\"2015\",\"ext_heat_days\":\"15\"},{\"key\":38,\"county\":\"Gila\",\"countyID\":\"04007\",\"year\":\"2016\",\"ext_heat_days\":\"22\"},{\"key\":39,\"county\":\"Gila\",\"countyID\":\"04007\",\"year\":\"2017\",\"ext_heat_days\":\"14\"},{\"key\":40,\"county\":\"Gila\",\"countyID\":\"04007\",\"year\":\"2018\",\"ext_heat_days\":\"24\"},{\"key\":41,\"county\":\"Gila\",\"countyID\":\"04007\",\"year\":\"2019\",\"ext_heat_days\":\"31\"},{\"key\":42,\"county\":\"Gila\",\"countyID\":\"04007\",\"year\":\"2020\",\"ext_heat_days\":\"48\"},{\"key\":43,\"county\":\"Gila\",\"countyID\":\"04007\",\"year\":\"2021\",\"ext_heat_days\":\"22\"},{\"key\":44,\"county\":\"Graham\",\"countyID\":\"04009\",\"year\":\"2011\",\"ext_heat_days\":\"28\"},{\"key\":45,\"county\":\"Graham\",\"countyID\":\"04009\",\"year\":\"2012\",\"ext_heat_days\":\"22\"},{\"key\":46,\"county\":\"Graham\",\"countyID\":\"04009\",\"year\":\"2013\",\"ext_heat_days\":\"14\"},{\"key\":47,\"county\":\"Graham\",\"countyID\":\"04009\",\"year\":\"2014\",\"ext_heat_days\":\"3\"},{\"key\":48,\"county\":\"Graham\",\"countyID\":\"04009\",\"year\":\"2015\",\"ext_heat_days\":\"13\"},{\"key\":49,\"county\":\"Graham\",\"countyID\":\"04009\",\"year\":\"2016\",\"ext_heat_days\":\"19\"},{\"key\":50,\"county\":\"Graham\",\"countyID\":\"04009\",\"year\":\"2017\",\"ext_heat_days\":\"15\"},{\"key\":51,\"county\":\"Graham\",\"countyID\":\"04009\",\"year\":\"2018\",\"ext_heat_days\":\"22\"},{\"key\":52,\"county\":\"Graham\",\"countyID\":\"04009\",\"year\":\"2019\",\"ext_heat_days\":\"24\"},{\"key\":53,\"county\":\"Graham\",\"countyID\":\"04009\",\"year\":\"2020\",\"ext_heat_days\":\"48\"},{\"key\":54,\"county\":\"Graham\",\"countyID\":\"04009\",\"year\":\"2021\",\"ext_heat_days\":\"16\"},{\"key\":55,\"county\":\"Greenlee\",\"countyID\":\"04011\",\"year\":\"2011\",\"ext_heat_days\":\"25\"},{\"key\":56,\"county\":\"Greenlee\",\"countyID\":\"04011\",\"year\":\"2012\",\"ext_heat_days\":\"22\"},{\"key\":57,\"county\":\"Greenlee\",\"countyID\":\"04011\",\"year\":\"2013\",\"ext_heat_days\":\"17\"},{\"key\":58,\"county\":\"Greenlee\",\"countyID\":\"04011\",\"year\":\"2014\",\"ext_heat_days\":\"4\"},{\"key\":59,\"county\":\"Greenlee\",\"countyID\":\"04011\",\"year\":\"2015\",\"ext_heat_days\":\"14\"},{\"key\":60,\"county\":\"Greenlee\",\"countyID\":\"04011\",\"year\":\"2016\",\"ext_heat_days\":\"18\"},{\"key\":61,\"county\":\"Greenlee\",\"countyID\":\"04011\",\"year\":\"2017\",\"ext_heat_days\":\"17\"},{\"key\":62,\"county\":\"Greenlee\",\"countyID\":\"04011\",\"year\":\"2018\",\"ext_heat_days\":\"19\"},{\"key\":63,\"county\":\"Greenlee\",\"countyID\":\"04011\",\"year\":\"2019\",\"ext_heat_days\":\"24\"},{\"key\":64,\"county\":\"Greenlee\",\"countyID\":\"04011\",\"year\":\"2020\",\"ext_heat_days\":\"46\"},{\"key\":65,\"county\":\"Greenlee\",\"countyID\":\"04011\",\"year\":\"2021\",\"ext_heat_days\":\"16\"},{\"key\":66,\"county\":\"La '\n",
      " 'Paz\",\"countyID\":\"04012\",\"year\":\"2011\",\"ext_heat_days\":\"22\"},{\"key\":67,\"county\":\"La '\n",
      " 'Paz\",\"countyID\":\"04012\",\"year\":\"2012\",\"ext_heat_days\":\"15\"},{\"key\":68,\"county\":\"La '\n",
      " 'Paz\",\"countyID\":\"04012\",\"year\":\"2013\",\"ext_heat_days\":\"13\"},{\"key\":69,\"county\":\"La '\n",
      " 'Paz\",\"countyID\":\"04012\",\"year\":\"2014\",\"ext_heat_days\":\"3\"},{\"key\":70,\"county\":\"La '\n",
      " 'Paz\",\"countyID\":\"04012\",\"year\":\"2015\",\"ext_heat_days\":\"20\"},{\"key\":71,\"county\":\"La '\n",
      " 'Paz\",\"countyID\":\"04012\",\"year\":\"2016\",\"ext_heat_days\":\"27\"},{\"key\":72,\"county\":\"La '\n",
      " 'Paz\",\"countyID\":\"04012\",\"year\":\"2017\",\"ext_heat_days\":\"22\"},{\"key\":73,\"county\":\"La '\n",
      " 'Paz\",\"countyID\":\"04012\",\"year\":\"2018\",\"ext_heat_days\":\"19\"},{\"key\":74,\"county\":\"La '\n",
      " 'Paz\",\"countyID\":\"04012\",\"year\":\"2019\",\"ext_heat_days\":\"22\"},{\"key\":75,\"county\":\"La '\n",
      " 'Paz\",\"countyID\":\"04012\",\"year\":\"2020\",\"ext_heat_days\":\"39\"},{\"key\":76,\"county\":\"La '\n",
      " 'Paz\",\"countyID\":\"04012\",\"year\":\"2021\",\"ext_heat_days\":\"23\"},{\"key\":77,\"county\":\"Maricopa\",\"countyID\":\"04013\",\"year\":\"2011\",\"ext_heat_days\":\"28\"},{\"key\":78,\"county\":\"Maricopa\",\"countyID\":\"04013\",\"year\":\"2012\",\"ext_heat_days\":\"21\"},{\"key\":79,\"county\":\"Maricopa\",\"countyID\":\"04013\",\"year\":\"2013\",\"ext_heat_days\":\"13\"},{\"key\":80,\"county\":\"Maricopa\",\"countyID\":\"04013\",\"year\":\"2014\",\"ext_heat_days\":\"2\"},{\"key\":81,\"county\":\"Maricopa\",\"countyID\":\"04013\",\"year\":\"2015\",\"ext_heat_days\":\"16\"},{\"key\":82,\"county\":\"Maricopa\",\"countyID\":\"04013\",\"year\":\"2016\",\"ext_heat_days\":\"23\"},{\"key\":83,\"county\":\"Maricopa\",\"countyID\":\"04013\",\"year\":\"2017\",\"ext_heat_days\":\"19\"},{\"key\":84,\"county\":\"Maricopa\",\"countyID\":\"04013\",\"year\":\"2018\",\"ext_heat_days\":\"19\"},{\"key\":85,\"county\":\"Maricopa\",\"countyID\":\"04013\",\"year\":\"2019\",\"ext_heat_days\":\"26\"},{\"key\":86,\"county\":\"Maricopa\",\"countyID\":\"04013\",\"year\":\"2020\",\"ext_heat_days\":\"45\"},{\"key\":87,\"county\":\"Maricopa\",\"countyID\":\"04013\",\"year\":\"2021\",\"ext_heat_days\":\"22\"},{\"key\":88,\"county\":\"Mohave\",\"countyID\":\"04015\",\"year\":\"2011\",\"ext_heat_days\":\"18\"},{\"key\":89,\"county\":\"Mohave\",\"countyID\":\"04015\",\"year\":\"2012\",\"ext_heat_days\":\"14\"},{\"key\":90,\"county\":\"Mohave\",\"countyID\":\"04015\",\"year\":\"2013\",\"ext_heat_days\":\"18\"},{\"key\":91,\"county\":\"Mohave\",\"countyID\":\"04015\",\"year\":\"2014\",\"ext_heat_days\":\"4\"},{\"key\":92,\"county\":\"Mohave\",\"countyID\":\"04015\",\"year\":\"2015\",\"ext_heat_days\":\"15\"},{\"key\":93,\"county\":\"Mohave\",\"countyID\":\"04015\",\"year\":\"2016\",\"ext_heat_days\":\"25\"},{\"key\":94,\"county\":\"Mohave\",\"countyID\":\"04015\",\"year\":\"2017\",\"ext_heat_days\":\"22\"},{\"key\":95,\"county\":\"Mohave\",\"countyID\":\"04015\",\"year\":\"2018\",\"ext_heat_days\":\"22\"},{\"key\":96,\"county\":\"Mohave\",\"countyID\":\"04015\",\"year\":\"2019\",\"ext_heat_days\":\"22\"},{\"key\":97,\"county\":\"Mohave\",\"countyID\":\"04015\",\"year\":\"2020\",\"ext_heat_days\":\"36\"},{\"key\":98,\"county\":\"Mohave\",\"countyID\":\"04015\",\"year\":\"2021\",\"ext_heat_days\":\"26\"},{\"key\":99,\"county\":\"Navajo\",\"countyID\":\"04017\",\"year\":\"2011\",\"ext_heat_days\":\"21\"},{\"key\":100,\"county\":\"Navajo\",\"countyID\":\"04017\",\"year\":\"2012\",\"ext_heat_days\":\"20\"},{\"key\":101,\"county\":\"Navajo\",\"countyID\":\"04017\",\"year\":\"2013\",\"ext_heat_days\":\"16\"},{\"key\":102,\"county\":\"Navajo\",\"countyID\":\"04017\",\"year\":\"2014\",\"ext_heat_days\":\"3\"},{\"key\":103,\"county\":\"Navajo\",\"countyID\":\"04017\",\"year\":\"2015\",\"ext_heat_days\":\"19\"},{\"key\":104,\"county\":\"Navajo\",\"countyID\":\"04017\",\"year\":\"2016\",\"ext_heat_days\":\"20\"},{\"key\":105,\"county\":\"Navajo\",\"countyID\":\"04017\",\"year\":\"2017\",\"ext_heat_days\":\"15\"},{\"key\":106,\"county\":\"Navajo\",\"countyID\":\"04017\",\"year\":\"2018\",\"ext_heat_days\":\"29\"},{\"key\":107,\"county\":\"Navajo\",\"countyID\":\"04017\",\"year\":\"2019\",\"ext_heat_days\":\"27\"},{\"key\":108,\"county\":\"Navajo\",\"countyID\":\"04017\",\"year\":\"2020\",\"ext_heat_days\":\"41\"},{\"key\":109,\"county\":\"Navajo\",\"countyID\":\"04017\",\"year\":\"2021\",\"ext_heat_days\":\"21\"},{\"key\":110,\"county\":\"Pima\",\"countyID\":\"04019\",\"year\":\"2011\",\"ext_heat_days\":\"32\"},{\"key\":111,\"county\":\"Pima\",\"countyID\":\"04019\",\"year\":\"2012\",\"ext_heat_days\":\"27\"},{\"key\":112,\"county\":\"Pima\",\"countyID\":\"04019\",\"year\":\"2013\",\"ext_heat_days\":\"14\"},{\"key\":113,\"county\":\"Pima\",\"countyID\":\"04019\",\"year\":\"2014\",\"ext_heat_days\":\"4\"},{\"key\":114,\"county\":\"Pima\",\"countyID\":\"04019\",\"year\":\"2015\",\"ext_heat_days\":\"13\"},{\"key\":115,\"county\":\"Pima\",\"countyID\":\"04019\",\"year\":\"2016\",\"ext_heat_days\":\"21\"},{\"key\":116,\"county\":\"Pima\",\"countyID\":\"04019\",\"year\":\"2017\",\"ext_heat_days\":\"17\"},{\"key\":117,\"county\":\"Pima\",\"countyID\":\"04019\",\"year\":\"2018\",\"ext_heat_days\":\"17\"},{\"key\":118,\"county\":\"Pima\",\"countyID\":\"04019\",\"year\":\"2019\",\"ext_heat_days\":\"28\"},{\"key\":119,\"county\":\"Pima\",\"countyID\":\"04019\",\"year\":\"2020\",\"ext_heat_days\":\"50\"},{\"key\":120,\"county\":\"Pima\",\"countyID\":\"04019\",\"year\":\"2021\",\"ext_heat_days\":\"16\"},{\"key\":121,\"county\":\"Pinal\",\"countyID\":\"04021\",\"year\":\"2011\",\"ext_heat_days\":\"31\"},{\"key\":122,\"county\":\"Pinal\",\"countyID\":\"04021\",\"year\":\"2012\",\"ext_heat_days\":\"24\"},{\"key\":123,\"county\":\"Pinal\",\"countyID\":\"04021\",\"year\":\"2013\",\"ext_heat_days\":\"13\"},{\"key\":124,\"county\":\"Pinal\",\"countyID\":\"04021\",\"year\":\"2014\",\"ext_heat_days\":\"2\"},{\"key\":125,\"county\":\"Pinal\",\"countyID\":\"04021\",\"year\":\"2015\",\"ext_heat_days\":\"15\"},{\"key\":126,\"county\":\"Pinal\",\"countyID\":\"04021\",\"year\":\"2016\",\"ext_heat_days\":\"26\"},{\"key\":127,\"county\":\"Pinal\",\"countyID\":\"04021\",\"year\":\"2017\",\"ext_heat_days\":\"16\"},{\"key\":128,\"county\":\"Pinal\",\"countyID\":\"04021\",\"year\":\"2018\",\"ext_heat_days\":\"21\"},{\"key\":129,\"county\":\"Pinal\",\"countyID\":\"04021\",\"year\":\"2019\",\"ext_heat_days\":\"26\"},{\"key\":130,\"county\":\"Pinal\",\"countyID\":\"04021\",\"year\":\"2020\",\"ext_heat_days\":\"49\"},{\"key\":131,\"county\":\"Pinal\",\"countyID\":\"04021\",\"year\":\"2021\",\"ext_heat_days\":\"21\"},{\"key\":132,\"county\":\"Santa '\n",
      " 'Cruz\",\"countyID\":\"04023\",\"year\":\"2011\",\"ext_heat_days\":\"37\"},{\"key\":133,\"county\":\"Santa '\n",
      " 'Cruz\",\"countyID\":\"04023\",\"year\":\"2012\",\"ext_heat_days\":\"29\"},{\"key\":134,\"county\":\"Santa '\n",
      " 'Cruz\",\"countyID\":\"04023\",\"year\":\"2013\",\"ext_heat_days\":\"17\"},{\"key\":135,\"county\":\"Santa '\n",
      " 'Cruz\",\"countyID\":\"04023\",\"year\":\"2014\",\"ext_heat_days\":\"6\"},{\"key\":136,\"county\":\"Santa '\n",
      " 'Cruz\",\"countyID\":\"04023\",\"year\":\"2015\",\"ext_heat_days\":\"12\"},{\"key\":137,\"county\":\"Santa '\n",
      " 'Cruz\",\"countyID\":\"04023\",\"year\":\"2016\",\"ext_heat_days\":\"21\"},{\"key\":138,\"county\":\"Santa '\n",
      " 'Cruz\",\"countyID\":\"04023\",\"year\":\"2017\",\"ext_heat_days\":\"15\"},{\"key\":139,\"county\":\"Santa '\n",
      " 'Cruz\",\"countyID\":\"04023\",\"year\":\"2018\",\"ext_heat_days\":\"17\"},{\"key\":140,\"county\":\"Santa '\n",
      " 'Cruz\",\"countyID\":\"04023\",\"year\":\"2019\",\"ext_heat_days\":\"24\"},{\"key\":141,\"county\":\"Santa '\n",
      " 'Cruz\",\"countyID\":\"04023\",\"year\":\"2020\",\"ext_heat_days\":\"33\"},{\"key\":142,\"county\":\"Santa '\n",
      " 'Cruz\",\"countyID\":\"04023\",\"year\":\"2021\",\"ext_heat_days\":\"14\"},{\"key\":143,\"county\":\"Yavapai\",\"countyID\":\"04025\",\"year\":\"2011\",\"ext_heat_days\":\"24\"},{\"key\":144,\"county\":\"Yavapai\",\"countyID\":\"04025\",\"year\":\"2012\",\"ext_heat_days\":\"27\"},{\"key\":145,\"county\":\"Yavapai\",\"countyID\":\"04025\",\"year\":\"2013\",\"ext_heat_days\":\"19\"},{\"key\":146,\"county\":\"Yavapai\",\"countyID\":\"04025\",\"year\":\"2014\",\"ext_heat_days\":\"3\"},{\"key\":147,\"county\":\"Yavapai\",\"countyID\":\"04025\",\"year\":\"2015\",\"ext_heat_days\":\"17\"},{\"key\":148,\"county\":\"Yavapai\",\"countyID\":\"04025\",\"year\":\"2016\",\"ext_heat_days\":\"22\"},{\"key\":149,\"county\":\"Yavapai\",\"countyID\":\"04025\",\"year\":\"2017\",\"ext_heat_days\":\"16\"},{\"key\":150,\"county\":\"Yavapai\",\"countyID\":\"04025\",\"year\":\"2018\",\"ext_heat_days\":\"19\"},{\"key\":151,\"county\":\"Yavapai\",\"countyID\":\"04025\",\"year\":\"2019\",\"ext_heat_days\":\"26\"},{\"key\":152,\"county\":\"Yavapai\",\"countyID\":\"04025\",\"year\":\"2020\",\"ext_heat_days\":\"35\"},{\"key\":153,\"county\":\"Yavapai\",\"countyID\":\"04025\",\"year\":\"2021\",\"ext_heat_days\":\"22\"},{\"key\":154,\"county\":\"Yuma\",\"countyID\":\"04027\",\"year\":\"2011\",\"ext_heat_days\":\"25\"},{\"key\":155,\"county\":\"Yuma\",\"countyID\":\"04027\",\"year\":\"2012\",\"ext_heat_days\":\"17\"},{\"key\":156,\"county\":\"Yuma\",\"countyID\":\"04027\",\"year\":\"2013\",\"ext_heat_days\":\"12\"},{\"key\":157,\"county\":\"Yuma\",\"countyID\":\"04027\",\"year\":\"2014\",\"ext_heat_days\":\"6\"},{\"key\":158,\"county\":\"Yuma\",\"countyID\":\"04027\",\"year\":\"2015\",\"ext_heat_days\":\"22\"},{\"key\":159,\"county\":\"Yuma\",\"countyID\":\"04027\",\"year\":\"2016\",\"ext_heat_days\":\"24\"},{\"key\":160,\"county\":\"Yuma\",\"countyID\":\"04027\",\"year\":\"2017\",\"ext_heat_days\":\"21\"},{\"key\":161,\"county\":\"Yuma\",\"countyID\":\"04027\",\"year\":\"2018\",\"ext_heat_days\":\"19\"},{\"key\":162,\"county\":\"Yuma\",\"countyID\":\"04027\",\"year\":\"2019\",\"ext_heat_days\":\"22\"},{\"key\":163,\"county\":\"Yuma\",\"countyID\":\"04027\",\"year\":\"2020\",\"ext_heat_days\":\"36\"},{\"key\":164,\"county\":\"Yuma\",\"countyID\":\"04027\",\"year\":\"2021\",\"ext_heat_days\":\"24\"}]')\n"
     ]
    }
   ],
   "source": [
    "# Use DataFrame.to_json() to orient = 'columns' \n",
    "df2 = df.to_json(orient = 'records')\n",
    "pprint(df2)\n"
   ]
  },
  {
   "attachments": {},
   "cell_type": "markdown",
   "metadata": {},
   "source": [
    "# Load: SQLite database"
   ]
  },
  {
   "cell_type": "code",
   "execution_count": 11,
   "metadata": {},
   "outputs": [],
   "source": [
    "# Python SQL toolkit and Object Relational Mapper\n",
    "import sqlalchemy\n",
    "from sqlalchemy.ext.automap import automap_base\n",
    "from sqlalchemy.orm import Session\n",
    "from sqlalchemy import create_engine, inspect, func, distinct\n",
    "\n",
    "# Import modules to declare columns and column data types\n",
    "from sqlalchemy import Column, Integer, String, Float, Boolean\n",
    "\n",
    "from pathlib import Path"
   ]
  },
  {
   "cell_type": "code",
   "execution_count": 12,
   "metadata": {},
   "outputs": [],
   "source": [
    "Path('data/hri.sqlite').touch()"
   ]
  },
  {
   "cell_type": "code",
   "execution_count": 13,
   "metadata": {},
   "outputs": [],
   "source": [
    "# create engine to HRI.sqlite\n",
    "engine = create_engine(\"sqlite:///data/hri.sqlite\")"
   ]
  },
  {
   "cell_type": "code",
   "execution_count": 14,
   "metadata": {},
   "outputs": [
    {
     "name": "stderr",
     "output_type": "stream",
     "text": [
      "C:\\Users\\Noell\\AppData\\Local\\Temp\\ipykernel_8652\\1858934895.py:1: RemovedIn20Warning: Deprecated API features detected! These feature(s) are not compatible with SQLAlchemy 2.0. To prevent incompatible upgrades prior to updating applications, ensure requirements files are pinned to \"sqlalchemy<2.0\". Set environment variable SQLALCHEMY_WARN_20=1 to show all deprecation warnings.  Set environment variable SQLALCHEMY_SILENCE_UBER_WARNING=1 to silence this message. (Background on SQLAlchemy 2.0 at: https://sqlalche.me/e/b8d9)\n",
      "  engine.execute('''CREATE TABLE extreme_heat_days (key int PRIMARY KEY, county text, countyID int, year text, ext_heat_days int)''')\n"
     ]
    },
    {
     "ename": "OperationalError",
     "evalue": "(sqlite3.OperationalError) table extreme_heat_days already exists\n[SQL: CREATE TABLE extreme_heat_days (key int PRIMARY KEY, county text, countyID int, year text, ext_heat_days int)]\n(Background on this error at: https://sqlalche.me/e/14/e3q8)",
     "output_type": "error",
     "traceback": [
      "\u001b[1;31m---------------------------------------------------------------------------\u001b[0m",
      "\u001b[1;31mOperationalError\u001b[0m                          Traceback (most recent call last)",
      "\u001b[1;32mc:\\Users\\Noell\\anaconda3\\lib\\site-packages\\sqlalchemy\\engine\\base.py\u001b[0m in \u001b[0;36m_execute_context\u001b[1;34m(self, dialect, constructor, statement, parameters, execution_options, *args, **kw)\u001b[0m\n\u001b[0;32m   1899\u001b[0m                 \u001b[1;32mif\u001b[0m \u001b[1;32mnot\u001b[0m \u001b[0mevt_handled\u001b[0m\u001b[1;33m:\u001b[0m\u001b[1;33m\u001b[0m\u001b[1;33m\u001b[0m\u001b[0m\n\u001b[1;32m-> 1900\u001b[1;33m                     self.dialect.do_execute(\n\u001b[0m\u001b[0;32m   1901\u001b[0m                         \u001b[0mcursor\u001b[0m\u001b[1;33m,\u001b[0m \u001b[0mstatement\u001b[0m\u001b[1;33m,\u001b[0m \u001b[0mparameters\u001b[0m\u001b[1;33m,\u001b[0m \u001b[0mcontext\u001b[0m\u001b[1;33m\u001b[0m\u001b[1;33m\u001b[0m\u001b[0m\n",
      "\u001b[1;32mc:\\Users\\Noell\\anaconda3\\lib\\site-packages\\sqlalchemy\\engine\\default.py\u001b[0m in \u001b[0;36mdo_execute\u001b[1;34m(self, cursor, statement, parameters, context)\u001b[0m\n\u001b[0;32m    735\u001b[0m     \u001b[1;32mdef\u001b[0m \u001b[0mdo_execute\u001b[0m\u001b[1;33m(\u001b[0m\u001b[0mself\u001b[0m\u001b[1;33m,\u001b[0m \u001b[0mcursor\u001b[0m\u001b[1;33m,\u001b[0m \u001b[0mstatement\u001b[0m\u001b[1;33m,\u001b[0m \u001b[0mparameters\u001b[0m\u001b[1;33m,\u001b[0m \u001b[0mcontext\u001b[0m\u001b[1;33m=\u001b[0m\u001b[1;32mNone\u001b[0m\u001b[1;33m)\u001b[0m\u001b[1;33m:\u001b[0m\u001b[1;33m\u001b[0m\u001b[1;33m\u001b[0m\u001b[0m\n\u001b[1;32m--> 736\u001b[1;33m         \u001b[0mcursor\u001b[0m\u001b[1;33m.\u001b[0m\u001b[0mexecute\u001b[0m\u001b[1;33m(\u001b[0m\u001b[0mstatement\u001b[0m\u001b[1;33m,\u001b[0m \u001b[0mparameters\u001b[0m\u001b[1;33m)\u001b[0m\u001b[1;33m\u001b[0m\u001b[1;33m\u001b[0m\u001b[0m\n\u001b[0m\u001b[0;32m    737\u001b[0m \u001b[1;33m\u001b[0m\u001b[0m\n",
      "\u001b[1;31mOperationalError\u001b[0m: table extreme_heat_days already exists",
      "\nThe above exception was the direct cause of the following exception:\n",
      "\u001b[1;31mOperationalError\u001b[0m                          Traceback (most recent call last)",
      "\u001b[1;32m~\\AppData\\Local\\Temp\\ipykernel_8652\\1858934895.py\u001b[0m in \u001b[0;36m<module>\u001b[1;34m\u001b[0m\n\u001b[1;32m----> 1\u001b[1;33m \u001b[0mengine\u001b[0m\u001b[1;33m.\u001b[0m\u001b[0mexecute\u001b[0m\u001b[1;33m(\u001b[0m\u001b[1;34m'''CREATE TABLE extreme_heat_days (key int PRIMARY KEY, county text, countyID int, year text, ext_heat_days int)'''\u001b[0m\u001b[1;33m)\u001b[0m\u001b[1;33m\u001b[0m\u001b[1;33m\u001b[0m\u001b[0m\n\u001b[0m",
      "\u001b[1;32m<string>\u001b[0m in \u001b[0;36mexecute\u001b[1;34m(self, statement, *multiparams, **params)\u001b[0m\n",
      "\u001b[1;32mc:\\Users\\Noell\\anaconda3\\lib\\site-packages\\sqlalchemy\\util\\deprecations.py\u001b[0m in \u001b[0;36mwarned\u001b[1;34m(fn, *args, **kwargs)\u001b[0m\n\u001b[0;32m    466\u001b[0m         \u001b[1;32mif\u001b[0m \u001b[1;32mnot\u001b[0m \u001b[0mskip_warning\u001b[0m\u001b[1;33m:\u001b[0m\u001b[1;33m\u001b[0m\u001b[1;33m\u001b[0m\u001b[0m\n\u001b[0;32m    467\u001b[0m             \u001b[0m_warn_with_version\u001b[0m\u001b[1;33m(\u001b[0m\u001b[0mmessage\u001b[0m\u001b[1;33m,\u001b[0m \u001b[0mversion\u001b[0m\u001b[1;33m,\u001b[0m \u001b[0mwtype\u001b[0m\u001b[1;33m,\u001b[0m \u001b[0mstacklevel\u001b[0m\u001b[1;33m=\u001b[0m\u001b[1;36m3\u001b[0m\u001b[1;33m)\u001b[0m\u001b[1;33m\u001b[0m\u001b[1;33m\u001b[0m\u001b[0m\n\u001b[1;32m--> 468\u001b[1;33m         \u001b[1;32mreturn\u001b[0m \u001b[0mfn\u001b[0m\u001b[1;33m(\u001b[0m\u001b[1;33m*\u001b[0m\u001b[0margs\u001b[0m\u001b[1;33m,\u001b[0m \u001b[1;33m**\u001b[0m\u001b[0mkwargs\u001b[0m\u001b[1;33m)\u001b[0m\u001b[1;33m\u001b[0m\u001b[1;33m\u001b[0m\u001b[0m\n\u001b[0m\u001b[0;32m    469\u001b[0m \u001b[1;33m\u001b[0m\u001b[0m\n\u001b[0;32m    470\u001b[0m     \u001b[0mdoc\u001b[0m \u001b[1;33m=\u001b[0m \u001b[0mfunc\u001b[0m\u001b[1;33m.\u001b[0m\u001b[0m__doc__\u001b[0m \u001b[1;32mis\u001b[0m \u001b[1;32mnot\u001b[0m \u001b[1;32mNone\u001b[0m \u001b[1;32mand\u001b[0m \u001b[0mfunc\u001b[0m\u001b[1;33m.\u001b[0m\u001b[0m__doc__\u001b[0m \u001b[1;32mor\u001b[0m \u001b[1;34m\"\"\u001b[0m\u001b[1;33m\u001b[0m\u001b[1;33m\u001b[0m\u001b[0m\n",
      "\u001b[1;32mc:\\Users\\Noell\\anaconda3\\lib\\site-packages\\sqlalchemy\\engine\\base.py\u001b[0m in \u001b[0;36mexecute\u001b[1;34m(self, statement, *multiparams, **params)\u001b[0m\n\u001b[0;32m   3255\u001b[0m         \"\"\"\n\u001b[0;32m   3256\u001b[0m         \u001b[0mconnection\u001b[0m \u001b[1;33m=\u001b[0m \u001b[0mself\u001b[0m\u001b[1;33m.\u001b[0m\u001b[0mconnect\u001b[0m\u001b[1;33m(\u001b[0m\u001b[0mclose_with_result\u001b[0m\u001b[1;33m=\u001b[0m\u001b[1;32mTrue\u001b[0m\u001b[1;33m)\u001b[0m\u001b[1;33m\u001b[0m\u001b[1;33m\u001b[0m\u001b[0m\n\u001b[1;32m-> 3257\u001b[1;33m         \u001b[1;32mreturn\u001b[0m \u001b[0mconnection\u001b[0m\u001b[1;33m.\u001b[0m\u001b[0mexecute\u001b[0m\u001b[1;33m(\u001b[0m\u001b[0mstatement\u001b[0m\u001b[1;33m,\u001b[0m \u001b[1;33m*\u001b[0m\u001b[0mmultiparams\u001b[0m\u001b[1;33m,\u001b[0m \u001b[1;33m**\u001b[0m\u001b[0mparams\u001b[0m\u001b[1;33m)\u001b[0m\u001b[1;33m\u001b[0m\u001b[1;33m\u001b[0m\u001b[0m\n\u001b[0m\u001b[0;32m   3258\u001b[0m \u001b[1;33m\u001b[0m\u001b[0m\n\u001b[0;32m   3259\u001b[0m     @util.deprecated_20(\n",
      "\u001b[1;32mc:\\Users\\Noell\\anaconda3\\lib\\site-packages\\sqlalchemy\\engine\\base.py\u001b[0m in \u001b[0;36mexecute\u001b[1;34m(self, statement, *multiparams, **params)\u001b[0m\n\u001b[0;32m   1363\u001b[0m             )\n\u001b[0;32m   1364\u001b[0m \u001b[1;33m\u001b[0m\u001b[0m\n\u001b[1;32m-> 1365\u001b[1;33m             return self._exec_driver_sql(\n\u001b[0m\u001b[0;32m   1366\u001b[0m                 \u001b[0mstatement\u001b[0m\u001b[1;33m,\u001b[0m\u001b[1;33m\u001b[0m\u001b[1;33m\u001b[0m\u001b[0m\n\u001b[0;32m   1367\u001b[0m                 \u001b[0mmultiparams\u001b[0m\u001b[1;33m,\u001b[0m\u001b[1;33m\u001b[0m\u001b[1;33m\u001b[0m\u001b[0m\n",
      "\u001b[1;32mc:\\Users\\Noell\\anaconda3\\lib\\site-packages\\sqlalchemy\\engine\\base.py\u001b[0m in \u001b[0;36m_exec_driver_sql\u001b[1;34m(self, statement, multiparams, params, execution_options, future)\u001b[0m\n\u001b[0;32m   1667\u001b[0m \u001b[1;33m\u001b[0m\u001b[0m\n\u001b[0;32m   1668\u001b[0m         \u001b[0mdialect\u001b[0m \u001b[1;33m=\u001b[0m \u001b[0mself\u001b[0m\u001b[1;33m.\u001b[0m\u001b[0mdialect\u001b[0m\u001b[1;33m\u001b[0m\u001b[1;33m\u001b[0m\u001b[0m\n\u001b[1;32m-> 1669\u001b[1;33m         ret = self._execute_context(\n\u001b[0m\u001b[0;32m   1670\u001b[0m             \u001b[0mdialect\u001b[0m\u001b[1;33m,\u001b[0m\u001b[1;33m\u001b[0m\u001b[1;33m\u001b[0m\u001b[0m\n\u001b[0;32m   1671\u001b[0m             \u001b[0mdialect\u001b[0m\u001b[1;33m.\u001b[0m\u001b[0mexecution_ctx_cls\u001b[0m\u001b[1;33m.\u001b[0m\u001b[0m_init_statement\u001b[0m\u001b[1;33m,\u001b[0m\u001b[1;33m\u001b[0m\u001b[1;33m\u001b[0m\u001b[0m\n",
      "\u001b[1;32mc:\\Users\\Noell\\anaconda3\\lib\\site-packages\\sqlalchemy\\engine\\base.py\u001b[0m in \u001b[0;36m_execute_context\u001b[1;34m(self, dialect, constructor, statement, parameters, execution_options, *args, **kw)\u001b[0m\n\u001b[0;32m   1941\u001b[0m \u001b[1;33m\u001b[0m\u001b[0m\n\u001b[0;32m   1942\u001b[0m         \u001b[1;32mexcept\u001b[0m \u001b[0mBaseException\u001b[0m \u001b[1;32mas\u001b[0m \u001b[0me\u001b[0m\u001b[1;33m:\u001b[0m\u001b[1;33m\u001b[0m\u001b[1;33m\u001b[0m\u001b[0m\n\u001b[1;32m-> 1943\u001b[1;33m             self._handle_dbapi_exception(\n\u001b[0m\u001b[0;32m   1944\u001b[0m                 \u001b[0me\u001b[0m\u001b[1;33m,\u001b[0m \u001b[0mstatement\u001b[0m\u001b[1;33m,\u001b[0m \u001b[0mparameters\u001b[0m\u001b[1;33m,\u001b[0m \u001b[0mcursor\u001b[0m\u001b[1;33m,\u001b[0m \u001b[0mcontext\u001b[0m\u001b[1;33m\u001b[0m\u001b[1;33m\u001b[0m\u001b[0m\n\u001b[0;32m   1945\u001b[0m             )\n",
      "\u001b[1;32mc:\\Users\\Noell\\anaconda3\\lib\\site-packages\\sqlalchemy\\engine\\base.py\u001b[0m in \u001b[0;36m_handle_dbapi_exception\u001b[1;34m(self, e, statement, parameters, cursor, context)\u001b[0m\n\u001b[0;32m   2122\u001b[0m                 \u001b[0mutil\u001b[0m\u001b[1;33m.\u001b[0m\u001b[0mraise_\u001b[0m\u001b[1;33m(\u001b[0m\u001b[0mnewraise\u001b[0m\u001b[1;33m,\u001b[0m \u001b[0mwith_traceback\u001b[0m\u001b[1;33m=\u001b[0m\u001b[0mexc_info\u001b[0m\u001b[1;33m[\u001b[0m\u001b[1;36m2\u001b[0m\u001b[1;33m]\u001b[0m\u001b[1;33m,\u001b[0m \u001b[0mfrom_\u001b[0m\u001b[1;33m=\u001b[0m\u001b[0me\u001b[0m\u001b[1;33m)\u001b[0m\u001b[1;33m\u001b[0m\u001b[1;33m\u001b[0m\u001b[0m\n\u001b[0;32m   2123\u001b[0m             \u001b[1;32melif\u001b[0m \u001b[0mshould_wrap\u001b[0m\u001b[1;33m:\u001b[0m\u001b[1;33m\u001b[0m\u001b[1;33m\u001b[0m\u001b[0m\n\u001b[1;32m-> 2124\u001b[1;33m                 util.raise_(\n\u001b[0m\u001b[0;32m   2125\u001b[0m                     \u001b[0msqlalchemy_exception\u001b[0m\u001b[1;33m,\u001b[0m \u001b[0mwith_traceback\u001b[0m\u001b[1;33m=\u001b[0m\u001b[0mexc_info\u001b[0m\u001b[1;33m[\u001b[0m\u001b[1;36m2\u001b[0m\u001b[1;33m]\u001b[0m\u001b[1;33m,\u001b[0m \u001b[0mfrom_\u001b[0m\u001b[1;33m=\u001b[0m\u001b[0me\u001b[0m\u001b[1;33m\u001b[0m\u001b[1;33m\u001b[0m\u001b[0m\n\u001b[0;32m   2126\u001b[0m                 )\n",
      "\u001b[1;32mc:\\Users\\Noell\\anaconda3\\lib\\site-packages\\sqlalchemy\\util\\compat.py\u001b[0m in \u001b[0;36mraise_\u001b[1;34m(***failed resolving arguments***)\u001b[0m\n\u001b[0;32m    209\u001b[0m \u001b[1;33m\u001b[0m\u001b[0m\n\u001b[0;32m    210\u001b[0m         \u001b[1;32mtry\u001b[0m\u001b[1;33m:\u001b[0m\u001b[1;33m\u001b[0m\u001b[1;33m\u001b[0m\u001b[0m\n\u001b[1;32m--> 211\u001b[1;33m             \u001b[1;32mraise\u001b[0m \u001b[0mexception\u001b[0m\u001b[1;33m\u001b[0m\u001b[1;33m\u001b[0m\u001b[0m\n\u001b[0m\u001b[0;32m    212\u001b[0m         \u001b[1;32mfinally\u001b[0m\u001b[1;33m:\u001b[0m\u001b[1;33m\u001b[0m\u001b[1;33m\u001b[0m\u001b[0m\n\u001b[0;32m    213\u001b[0m             \u001b[1;31m# credit to\u001b[0m\u001b[1;33m\u001b[0m\u001b[1;33m\u001b[0m\u001b[0m\n",
      "\u001b[1;32mc:\\Users\\Noell\\anaconda3\\lib\\site-packages\\sqlalchemy\\engine\\base.py\u001b[0m in \u001b[0;36m_execute_context\u001b[1;34m(self, dialect, constructor, statement, parameters, execution_options, *args, **kw)\u001b[0m\n\u001b[0;32m   1898\u001b[0m                             \u001b[1;32mbreak\u001b[0m\u001b[1;33m\u001b[0m\u001b[1;33m\u001b[0m\u001b[0m\n\u001b[0;32m   1899\u001b[0m                 \u001b[1;32mif\u001b[0m \u001b[1;32mnot\u001b[0m \u001b[0mevt_handled\u001b[0m\u001b[1;33m:\u001b[0m\u001b[1;33m\u001b[0m\u001b[1;33m\u001b[0m\u001b[0m\n\u001b[1;32m-> 1900\u001b[1;33m                     self.dialect.do_execute(\n\u001b[0m\u001b[0;32m   1901\u001b[0m                         \u001b[0mcursor\u001b[0m\u001b[1;33m,\u001b[0m \u001b[0mstatement\u001b[0m\u001b[1;33m,\u001b[0m \u001b[0mparameters\u001b[0m\u001b[1;33m,\u001b[0m \u001b[0mcontext\u001b[0m\u001b[1;33m\u001b[0m\u001b[1;33m\u001b[0m\u001b[0m\n\u001b[0;32m   1902\u001b[0m                     )\n",
      "\u001b[1;32mc:\\Users\\Noell\\anaconda3\\lib\\site-packages\\sqlalchemy\\engine\\default.py\u001b[0m in \u001b[0;36mdo_execute\u001b[1;34m(self, cursor, statement, parameters, context)\u001b[0m\n\u001b[0;32m    734\u001b[0m \u001b[1;33m\u001b[0m\u001b[0m\n\u001b[0;32m    735\u001b[0m     \u001b[1;32mdef\u001b[0m \u001b[0mdo_execute\u001b[0m\u001b[1;33m(\u001b[0m\u001b[0mself\u001b[0m\u001b[1;33m,\u001b[0m \u001b[0mcursor\u001b[0m\u001b[1;33m,\u001b[0m \u001b[0mstatement\u001b[0m\u001b[1;33m,\u001b[0m \u001b[0mparameters\u001b[0m\u001b[1;33m,\u001b[0m \u001b[0mcontext\u001b[0m\u001b[1;33m=\u001b[0m\u001b[1;32mNone\u001b[0m\u001b[1;33m)\u001b[0m\u001b[1;33m:\u001b[0m\u001b[1;33m\u001b[0m\u001b[1;33m\u001b[0m\u001b[0m\n\u001b[1;32m--> 736\u001b[1;33m         \u001b[0mcursor\u001b[0m\u001b[1;33m.\u001b[0m\u001b[0mexecute\u001b[0m\u001b[1;33m(\u001b[0m\u001b[0mstatement\u001b[0m\u001b[1;33m,\u001b[0m \u001b[0mparameters\u001b[0m\u001b[1;33m)\u001b[0m\u001b[1;33m\u001b[0m\u001b[1;33m\u001b[0m\u001b[0m\n\u001b[0m\u001b[0;32m    737\u001b[0m \u001b[1;33m\u001b[0m\u001b[0m\n\u001b[0;32m    738\u001b[0m     \u001b[1;32mdef\u001b[0m \u001b[0mdo_execute_no_params\u001b[0m\u001b[1;33m(\u001b[0m\u001b[0mself\u001b[0m\u001b[1;33m,\u001b[0m \u001b[0mcursor\u001b[0m\u001b[1;33m,\u001b[0m \u001b[0mstatement\u001b[0m\u001b[1;33m,\u001b[0m \u001b[0mcontext\u001b[0m\u001b[1;33m=\u001b[0m\u001b[1;32mNone\u001b[0m\u001b[1;33m)\u001b[0m\u001b[1;33m:\u001b[0m\u001b[1;33m\u001b[0m\u001b[1;33m\u001b[0m\u001b[0m\n",
      "\u001b[1;31mOperationalError\u001b[0m: (sqlite3.OperationalError) table extreme_heat_days already exists\n[SQL: CREATE TABLE extreme_heat_days (key int PRIMARY KEY, county text, countyID int, year text, ext_heat_days int)]\n(Background on this error at: https://sqlalche.me/e/14/e3q8)"
     ]
    }
   ],
   "source": [
    "engine.execute('''CREATE TABLE extreme_heat_days (key int PRIMARY KEY, county text, countyID int, year text, ext_heat_days int)''')"
   ]
  },
  {
   "cell_type": "code",
   "execution_count": null,
   "metadata": {},
   "outputs": [
    {
     "data": {
      "text/plain": [
       "165"
      ]
     },
     "execution_count": 13,
     "metadata": {},
     "output_type": "execute_result"
    }
   ],
   "source": [
    "# load the data into a Pandas DataFrame and write to sqlite table\n",
    "extreme_heat_days = pd.read_csv('data/ExtremeHeatDays.csv')\n",
    "extreme_heat_days.to_sql('extreme_heat_days', engine, if_exists='append', index = False)"
   ]
  },
  {
   "cell_type": "code",
   "execution_count": 15,
   "metadata": {},
   "outputs": [
    {
     "data": {
      "text/plain": [
       "['extreme_heat_days']"
      ]
     },
     "execution_count": 15,
     "metadata": {},
     "output_type": "execute_result"
    }
   ],
   "source": [
    "# Reflect Database into ORM classes\n",
    "Base = automap_base()\n",
    "Base.prepare(autoload_with=engine)\n",
    "Base.classes.keys() #['ed_visit_35', 'extreme_heat_days']"
   ]
  },
  {
   "cell_type": "code",
   "execution_count": 16,
   "metadata": {},
   "outputs": [],
   "source": [
    "ExHt = Base.classes.extreme_heat_days"
   ]
  },
  {
   "attachments": {},
   "cell_type": "markdown",
   "metadata": {},
   "source": [
    "# Building Queries from SQLite database\n",
    "These queries will them be used in the flask but need to check to see if they work"
   ]
  },
  {
   "cell_type": "code",
   "execution_count": 17,
   "metadata": {},
   "outputs": [],
   "source": [
    "# Create our session (link) from Python to the DB\n",
    "session = Session(engine)\n",
    "\n",
    "inspector = inspect(engine)"
   ]
  },
  {
   "cell_type": "code",
   "execution_count": 18,
   "metadata": {},
   "outputs": [
    {
     "name": "stdout",
     "output_type": "stream",
     "text": [
      "key INTEGER\n",
      "county TEXT\n",
      "countyID INTEGER\n",
      "year TEXT\n",
      "ext_heat_days INTEGER\n"
     ]
    }
   ],
   "source": [
    "columns = inspector.get_columns('extreme_heat_days')\n",
    "for column in columns:\n",
    "    print(column[\"name\"], column[\"type\"])"
   ]
  },
  {
   "cell_type": "code",
   "execution_count": 19,
   "metadata": {},
   "outputs": [
    {
     "data": {
      "text/plain": [
       "[(165,)]"
      ]
     },
     "execution_count": 19,
     "metadata": {},
     "output_type": "execute_result"
    }
   ],
   "source": [
    "# Total years\n",
    "session.query(func.count(ExHt.year)).all()"
   ]
  },
  {
   "attachments": {},
   "cell_type": "markdown",
   "metadata": {},
   "source": [
    "### Query All"
   ]
  },
  {
   "cell_type": "code",
   "execution_count": 20,
   "metadata": {},
   "outputs": [],
   "source": [
    "Base.metadata.create_all(engine)"
   ]
  },
  {
   "cell_type": "code",
   "execution_count": 21,
   "metadata": {},
   "outputs": [
    {
     "data": {
      "text/plain": [
       "<sqlalchemy.orm.query.Query at 0x1d18d3112b0>"
      ]
     },
     "execution_count": 21,
     "metadata": {},
     "output_type": "execute_result"
    }
   ],
   "source": [
    "all_list = session.query(ExHt)\n",
    "\n",
    "all_list"
   ]
  },
  {
   "cell_type": "code",
   "execution_count": 22,
   "metadata": {},
   "outputs": [
    {
     "name": "stdout",
     "output_type": "stream",
     "text": [
      "[(0, 'Apache', '2011', 19),\n",
      " (1, 'Apache', '2012', 19),\n",
      " (2, 'Apache', '2013', 18),\n",
      " (3, 'Apache', '2014', 5),\n",
      " (4, 'Apache', '2015', 18),\n",
      " (5, 'Apache', '2016', 16),\n",
      " (6, 'Apache', '2017', 16),\n",
      " (7, 'Apache', '2018', 31),\n",
      " (8, 'Apache', '2019', 23),\n",
      " (9, 'Apache', '2020', 38),\n",
      " (10, 'Apache', '2021', 24),\n",
      " (11, 'Cochise', '2011', 34),\n",
      " (12, 'Cochise', '2012', 25),\n",
      " (13, 'Cochise', '2013', 19),\n",
      " (14, 'Cochise', '2014', 4),\n",
      " (15, 'Cochise', '2015', 14),\n",
      " (16, 'Cochise', '2016', 19),\n",
      " (17, 'Cochise', '2017', 17),\n",
      " (18, 'Cochise', '2018', 18),\n",
      " (19, 'Cochise', '2019', 26),\n",
      " (20, 'Cochise', '2020', 35),\n",
      " (21, 'Cochise', '2021', 16),\n",
      " (22, 'Coconino', '2011', 17),\n",
      " (23, 'Coconino', '2012', 20),\n",
      " (24, 'Coconino', '2013', 16),\n",
      " (25, 'Coconino', '2014', 4),\n",
      " (26, 'Coconino', '2015', 19),\n",
      " (27, 'Coconino', '2016', 17),\n",
      " (28, 'Coconino', '2017', 16),\n",
      " (29, 'Coconino', '2018', 28),\n",
      " (30, 'Coconino', '2019', 22),\n",
      " (31, 'Coconino', '2020', 36),\n",
      " (32, 'Coconino', '2021', 22),\n",
      " (33, 'Gila', '2011', 30),\n",
      " (34, 'Gila', '2012', 27),\n",
      " (35, 'Gila', '2013', 16),\n",
      " (36, 'Gila', '2014', 3),\n",
      " (37, 'Gila', '2015', 15),\n",
      " (38, 'Gila', '2016', 22),\n",
      " (39, 'Gila', '2017', 14),\n",
      " (40, 'Gila', '2018', 24),\n",
      " (41, 'Gila', '2019', 31),\n",
      " (42, 'Gila', '2020', 48),\n",
      " (43, 'Gila', '2021', 22),\n",
      " (44, 'Graham', '2011', 28),\n",
      " (45, 'Graham', '2012', 22),\n",
      " (46, 'Graham', '2013', 14),\n",
      " (47, 'Graham', '2014', 3),\n",
      " (48, 'Graham', '2015', 13),\n",
      " (49, 'Graham', '2016', 19),\n",
      " (50, 'Graham', '2017', 15),\n",
      " (51, 'Graham', '2018', 22),\n",
      " (52, 'Graham', '2019', 24),\n",
      " (53, 'Graham', '2020', 48),\n",
      " (54, 'Graham', '2021', 16),\n",
      " (55, 'Greenlee', '2011', 25),\n",
      " (56, 'Greenlee', '2012', 22),\n",
      " (57, 'Greenlee', '2013', 17),\n",
      " (58, 'Greenlee', '2014', 4),\n",
      " (59, 'Greenlee', '2015', 14),\n",
      " (60, 'Greenlee', '2016', 18),\n",
      " (61, 'Greenlee', '2017', 17),\n",
      " (62, 'Greenlee', '2018', 19),\n",
      " (63, 'Greenlee', '2019', 24),\n",
      " (64, 'Greenlee', '2020', 46),\n",
      " (65, 'Greenlee', '2021', 16),\n",
      " (66, 'La Paz', '2011', 22),\n",
      " (67, 'La Paz', '2012', 15),\n",
      " (68, 'La Paz', '2013', 13),\n",
      " (69, 'La Paz', '2014', 3),\n",
      " (70, 'La Paz', '2015', 20),\n",
      " (71, 'La Paz', '2016', 27),\n",
      " (72, 'La Paz', '2017', 22),\n",
      " (73, 'La Paz', '2018', 19),\n",
      " (74, 'La Paz', '2019', 22),\n",
      " (75, 'La Paz', '2020', 39),\n",
      " (76, 'La Paz', '2021', 23),\n",
      " (77, 'Maricopa', '2011', 28),\n",
      " (78, 'Maricopa', '2012', 21),\n",
      " (79, 'Maricopa', '2013', 13),\n",
      " (80, 'Maricopa', '2014', 2),\n",
      " (81, 'Maricopa', '2015', 16),\n",
      " (82, 'Maricopa', '2016', 23),\n",
      " (83, 'Maricopa', '2017', 19),\n",
      " (84, 'Maricopa', '2018', 19),\n",
      " (85, 'Maricopa', '2019', 26),\n",
      " (86, 'Maricopa', '2020', 45),\n",
      " (87, 'Maricopa', '2021', 22),\n",
      " (88, 'Mohave', '2011', 18),\n",
      " (89, 'Mohave', '2012', 14),\n",
      " (90, 'Mohave', '2013', 18),\n",
      " (91, 'Mohave', '2014', 4),\n",
      " (92, 'Mohave', '2015', 15),\n",
      " (93, 'Mohave', '2016', 25),\n",
      " (94, 'Mohave', '2017', 22),\n",
      " (95, 'Mohave', '2018', 22),\n",
      " (96, 'Mohave', '2019', 22),\n",
      " (97, 'Mohave', '2020', 36),\n",
      " (98, 'Mohave', '2021', 26),\n",
      " (99, 'Navajo', '2011', 21),\n",
      " (100, 'Navajo', '2012', 20),\n",
      " (101, 'Navajo', '2013', 16),\n",
      " (102, 'Navajo', '2014', 3),\n",
      " (103, 'Navajo', '2015', 19),\n",
      " (104, 'Navajo', '2016', 20),\n",
      " (105, 'Navajo', '2017', 15),\n",
      " (106, 'Navajo', '2018', 29),\n",
      " (107, 'Navajo', '2019', 27),\n",
      " (108, 'Navajo', '2020', 41),\n",
      " (109, 'Navajo', '2021', 21),\n",
      " (110, 'Pima', '2011', 32),\n",
      " (111, 'Pima', '2012', 27),\n",
      " (112, 'Pima', '2013', 14),\n",
      " (113, 'Pima', '2014', 4),\n",
      " (114, 'Pima', '2015', 13),\n",
      " (115, 'Pima', '2016', 21),\n",
      " (116, 'Pima', '2017', 17),\n",
      " (117, 'Pima', '2018', 17),\n",
      " (118, 'Pima', '2019', 28),\n",
      " (119, 'Pima', '2020', 50),\n",
      " (120, 'Pima', '2021', 16),\n",
      " (121, 'Pinal', '2011', 31),\n",
      " (122, 'Pinal', '2012', 24),\n",
      " (123, 'Pinal', '2013', 13),\n",
      " (124, 'Pinal', '2014', 2),\n",
      " (125, 'Pinal', '2015', 15),\n",
      " (126, 'Pinal', '2016', 26),\n",
      " (127, 'Pinal', '2017', 16),\n",
      " (128, 'Pinal', '2018', 21),\n",
      " (129, 'Pinal', '2019', 26),\n",
      " (130, 'Pinal', '2020', 49),\n",
      " (131, 'Pinal', '2021', 21),\n",
      " (132, 'Santa Cruz', '2011', 37),\n",
      " (133, 'Santa Cruz', '2012', 29),\n",
      " (134, 'Santa Cruz', '2013', 17),\n",
      " (135, 'Santa Cruz', '2014', 6),\n",
      " (136, 'Santa Cruz', '2015', 12),\n",
      " (137, 'Santa Cruz', '2016', 21),\n",
      " (138, 'Santa Cruz', '2017', 15),\n",
      " (139, 'Santa Cruz', '2018', 17),\n",
      " (140, 'Santa Cruz', '2019', 24),\n",
      " (141, 'Santa Cruz', '2020', 33),\n",
      " (142, 'Santa Cruz', '2021', 14),\n",
      " (143, 'Yavapai', '2011', 24),\n",
      " (144, 'Yavapai', '2012', 27),\n",
      " (145, 'Yavapai', '2013', 19),\n",
      " (146, 'Yavapai', '2014', 3),\n",
      " (147, 'Yavapai', '2015', 17),\n",
      " (148, 'Yavapai', '2016', 22),\n",
      " (149, 'Yavapai', '2017', 16),\n",
      " (150, 'Yavapai', '2018', 19),\n",
      " (151, 'Yavapai', '2019', 26),\n",
      " (152, 'Yavapai', '2020', 35),\n",
      " (153, 'Yavapai', '2021', 22),\n",
      " (154, 'Yuma', '2011', 25),\n",
      " (155, 'Yuma', '2012', 17),\n",
      " (156, 'Yuma', '2013', 12),\n",
      " (157, 'Yuma', '2014', 6),\n",
      " (158, 'Yuma', '2015', 22),\n",
      " (159, 'Yuma', '2016', 24),\n",
      " (160, 'Yuma', '2017', 21),\n",
      " (161, 'Yuma', '2018', 19),\n",
      " (162, 'Yuma', '2019', 22),\n",
      " (163, 'Yuma', '2020', 36),\n",
      " (164, 'Yuma', '2021', 24)]\n"
     ]
    }
   ],
   "source": [
    "All_ehd = session.query(ExHt.key, ExHt.county, ExHt.year, ExHt.ext_heat_days).\\\n",
    "    order_by(ExHt.county).all()\n",
    "    \n",
    "pprint(All_ehd)"
   ]
  },
  {
   "cell_type": "code",
   "execution_count": 23,
   "metadata": {},
   "outputs": [],
   "source": [
    "# List of unique counties\n",
    "counties = session.query(ExHt.county).distinct().all()\n",
    "all_counties = list(np.ravel(counties))"
   ]
  },
  {
   "cell_type": "code",
   "execution_count": 26,
   "metadata": {},
   "outputs": [
    {
     "ename": "ValueError",
     "evalue": "too many values to unpack (expected 2)",
     "output_type": "error",
     "traceback": [
      "\u001b[1;31m---------------------------------------------------------------------------\u001b[0m",
      "\u001b[1;31mValueError\u001b[0m                                Traceback (most recent call last)",
      "\u001b[1;32m~\\AppData\\Local\\Temp\\ipykernel_8652\\2540816870.py\u001b[0m in \u001b[0;36m<module>\u001b[1;34m\u001b[0m\n\u001b[0;32m      5\u001b[0m \u001b[1;33m\u001b[0m\u001b[0m\n\u001b[0;32m      6\u001b[0m \u001b[1;31m# enumerate- returns index & element\u001b[0m\u001b[1;33m\u001b[0m\u001b[1;33m\u001b[0m\u001b[0m\n\u001b[1;32m----> 7\u001b[1;33m \u001b[1;32mfor\u001b[0m \u001b[0mindex\u001b[0m\u001b[1;33m,\u001b[0m \u001b[0melement\u001b[0m \u001b[1;32min\u001b[0m \u001b[0mAll_ehd\u001b[0m\u001b[1;33m:\u001b[0m\u001b[1;33m\u001b[0m\u001b[1;33m\u001b[0m\u001b[0m\n\u001b[0m\u001b[0;32m      8\u001b[0m     \u001b[0mmy_dict\u001b[0m \u001b[1;33m=\u001b[0m \u001b[1;33m{\u001b[0m\u001b[1;33m}\u001b[0m\u001b[1;33m\u001b[0m\u001b[1;33m\u001b[0m\u001b[0m\n\u001b[0;32m      9\u001b[0m \u001b[1;33m\u001b[0m\u001b[0m\n",
      "\u001b[1;31mValueError\u001b[0m: too many values to unpack (expected 2)"
     ]
    }
   ],
   "source": [
    "all_query_values = []\n",
    "\n",
    "# Create list with column names\n",
    "cNames= [\"key\", \"county\", \"year\", \"ext_heat_days\"]\n",
    "\n",
    "# enumerate- returns index & element\n",
    "for index, element in All_ehd:\n",
    "    my_dict = {}\n",
    "    \n",
    "    for index1, element1 in enumerate(cNames):\n",
    "        my_dict[element1] = element[index1]\n",
    "        \n",
    "    all_query_values.append(my_dict)\n",
    "\n",
    "all_query_values"
   ]
  },
  {
   "cell_type": "code",
   "execution_count": 63,
   "metadata": {},
   "outputs": [
    {
     "name": "stdout",
     "output_type": "stream",
     "text": [
      "<class 'list'> of type <class 'tuple'>\n"
     ]
    }
   ],
   "source": [
    "# This results in error: Object of type Row is not JSON serializable"
   ]
  },
  {
   "attachments": {},
   "cell_type": "markdown",
   "metadata": {},
   "source": [
    "## Query Apache"
   ]
  },
  {
   "cell_type": "code",
   "execution_count": null,
   "metadata": {},
   "outputs": [
    {
     "name": "stdout",
     "output_type": "stream",
     "text": [
      "[('2011', 19),\n",
      " ('2012', 19),\n",
      " ('2013', 18),\n",
      " ('2014', 5),\n",
      " ('2015', 18),\n",
      " ('2016', 16),\n",
      " ('2017', 16),\n",
      " ('2018', 31),\n",
      " ('2019', 23),\n",
      " ('2020', 38),\n",
      " ('2021', 24)]\n"
     ]
    }
   ],
   "source": [
    "### Get Apache data \n",
    "Apache_ehd = session.query(ExHt.year, ExHt.ext_heat_days ).\\\n",
    "    filter(ExHt.county == 'Apache').\\\n",
    "    order_by(ExHt.year).all()\n",
    "\n",
    "pprint(Apache_ehd)"
   ]
  },
  {
   "cell_type": "code",
   "execution_count": null,
   "metadata": {},
   "outputs": [],
   "source": [
    "Apache_query_values = []\n",
    "\n",
    "for year in Apache_ehd:\n",
    "        ehd_dict = {}\n",
    "        ehd_dict[\"year\"] = year\n",
    "        Apache_query_values.append(ehd_dict)"
   ]
  },
  {
   "cell_type": "code",
   "execution_count": null,
   "metadata": {},
   "outputs": [],
   "source": [
    "    # precip analysis to a dictionary using date as the key and prcp as the value.\n",
    "Apache_query_values = []\n",
    "for two, one in Apache_ehd:\n",
    "        Apache_EHD_dict = {}\n",
    "        Apache_EHD_dict[\"Year\"] = two\n",
    "        Apache_EHD_dict[\"Extreme Heat Days\"] = one\n",
    "\n",
    "        Apache_query_values.append(Apache_EHD_dict)"
   ]
  },
  {
   "cell_type": "code",
   "execution_count": null,
   "metadata": {},
   "outputs": [],
   "source": []
  },
  {
   "cell_type": "code",
   "execution_count": null,
   "metadata": {},
   "outputs": [
    {
     "data": {
      "text/plain": [
       "[{'Year': '2011', 'Extreme Heat Days': 19},\n",
       " {'Year': '2012', 'Extreme Heat Days': 19},\n",
       " {'Year': '2013', 'Extreme Heat Days': 18},\n",
       " {'Year': '2014', 'Extreme Heat Days': 5},\n",
       " {'Year': '2015', 'Extreme Heat Days': 18},\n",
       " {'Year': '2016', 'Extreme Heat Days': 16},\n",
       " {'Year': '2017', 'Extreme Heat Days': 16},\n",
       " {'Year': '2018', 'Extreme Heat Days': 31},\n",
       " {'Year': '2019', 'Extreme Heat Days': 23},\n",
       " {'Year': '2020', 'Extreme Heat Days': 38},\n",
       " {'Year': '2021', 'Extreme Heat Days': 24}]"
      ]
     },
     "execution_count": 34,
     "metadata": {},
     "output_type": "execute_result"
    }
   ],
   "source": [
    "Apache_query_values"
   ]
  },
  {
   "cell_type": "code",
   "execution_count": null,
   "metadata": {},
   "outputs": [],
   "source": [
    "    # precip analysis to a dictionary using date as the key and prcp as the value.\n",
    "Apache_query_values1 = []\n",
    "for ext_heat_days, year in Apache_ehd:\n",
    "        Apache_EHD_dict = {}\n",
    "\n",
    "        Apache_EHD_dict[\"Year\"] = year\n",
    "        Apache_EHD_dict[\"Extreme Heat Days\"] = ext_heat_days\n",
    "\n",
    "        Apache_query_values1.append(Apache_EHD_dict)"
   ]
  },
  {
   "cell_type": "code",
   "execution_count": null,
   "metadata": {},
   "outputs": [
    {
     "data": {
      "text/plain": [
       "[{'Year': 19, 'Extreme Heat Days': '2011'},\n",
       " {'Year': 19, 'Extreme Heat Days': '2012'},\n",
       " {'Year': 18, 'Extreme Heat Days': '2013'},\n",
       " {'Year': 5, 'Extreme Heat Days': '2014'},\n",
       " {'Year': 18, 'Extreme Heat Days': '2015'},\n",
       " {'Year': 16, 'Extreme Heat Days': '2016'},\n",
       " {'Year': 16, 'Extreme Heat Days': '2017'},\n",
       " {'Year': 31, 'Extreme Heat Days': '2018'},\n",
       " {'Year': 23, 'Extreme Heat Days': '2019'},\n",
       " {'Year': 38, 'Extreme Heat Days': '2020'},\n",
       " {'Year': 24, 'Extreme Heat Days': '2021'}]"
      ]
     },
     "execution_count": 117,
     "metadata": {},
     "output_type": "execute_result"
    }
   ],
   "source": [
    "Apache_query_values1"
   ]
  },
  {
   "cell_type": "code",
   "execution_count": null,
   "metadata": {},
   "outputs": [],
   "source": [
    "# Save the query results as a Pandas DataFrame. Explicitly set the column names\n",
    "Apache_ehd = pd.DataFrame(Apache_ehd, columns = [\"Year\", \"Number Extreme Heat Days\"])"
   ]
  },
  {
   "cell_type": "code",
   "execution_count": null,
   "metadata": {},
   "outputs": [
    {
     "data": {
      "text/html": [
       "<div>\n",
       "<style scoped>\n",
       "    .dataframe tbody tr th:only-of-type {\n",
       "        vertical-align: middle;\n",
       "    }\n",
       "\n",
       "    .dataframe tbody tr th {\n",
       "        vertical-align: top;\n",
       "    }\n",
       "\n",
       "    .dataframe thead th {\n",
       "        text-align: right;\n",
       "    }\n",
       "</style>\n",
       "<table border=\"1\" class=\"dataframe\">\n",
       "  <thead>\n",
       "    <tr style=\"text-align: right;\">\n",
       "      <th></th>\n",
       "      <th>Year</th>\n",
       "      <th>Number Extreme Heat Days</th>\n",
       "    </tr>\n",
       "  </thead>\n",
       "  <tbody>\n",
       "    <tr>\n",
       "      <th>0</th>\n",
       "      <td>2011</td>\n",
       "      <td>19</td>\n",
       "    </tr>\n",
       "    <tr>\n",
       "      <th>1</th>\n",
       "      <td>2012</td>\n",
       "      <td>19</td>\n",
       "    </tr>\n",
       "    <tr>\n",
       "      <th>2</th>\n",
       "      <td>2013</td>\n",
       "      <td>18</td>\n",
       "    </tr>\n",
       "    <tr>\n",
       "      <th>3</th>\n",
       "      <td>2014</td>\n",
       "      <td>5</td>\n",
       "    </tr>\n",
       "    <tr>\n",
       "      <th>4</th>\n",
       "      <td>2015</td>\n",
       "      <td>18</td>\n",
       "    </tr>\n",
       "    <tr>\n",
       "      <th>5</th>\n",
       "      <td>2016</td>\n",
       "      <td>16</td>\n",
       "    </tr>\n",
       "    <tr>\n",
       "      <th>6</th>\n",
       "      <td>2017</td>\n",
       "      <td>16</td>\n",
       "    </tr>\n",
       "    <tr>\n",
       "      <th>7</th>\n",
       "      <td>2018</td>\n",
       "      <td>31</td>\n",
       "    </tr>\n",
       "    <tr>\n",
       "      <th>8</th>\n",
       "      <td>2019</td>\n",
       "      <td>23</td>\n",
       "    </tr>\n",
       "    <tr>\n",
       "      <th>9</th>\n",
       "      <td>2020</td>\n",
       "      <td>38</td>\n",
       "    </tr>\n",
       "    <tr>\n",
       "      <th>10</th>\n",
       "      <td>2021</td>\n",
       "      <td>24</td>\n",
       "    </tr>\n",
       "  </tbody>\n",
       "</table>\n",
       "</div>"
      ],
      "text/plain": [
       "    Year  Number Extreme Heat Days\n",
       "0   2011                        19\n",
       "1   2012                        19\n",
       "2   2013                        18\n",
       "3   2014                         5\n",
       "4   2015                        18\n",
       "5   2016                        16\n",
       "6   2017                        16\n",
       "7   2018                        31\n",
       "8   2019                        23\n",
       "9   2020                        38\n",
       "10  2021                        24"
      ]
     },
     "execution_count": 79,
     "metadata": {},
     "output_type": "execute_result"
    }
   ],
   "source": [
    "# Sort the dataframe by date\n",
    "Apache_ehd = Apache_ehd.sort_values(by=[\"Year\"])\n",
    "Apache_ehd"
   ]
  },
  {
   "cell_type": "code",
   "execution_count": null,
   "metadata": {},
   "outputs": [
    {
     "data": {
      "text/plain": [
       "Year                        object\n",
       "Number Extreme Heat Days     int64\n",
       "dtype: object"
      ]
     },
     "execution_count": 80,
     "metadata": {},
     "output_type": "execute_result"
    }
   ],
   "source": [
    "Apache_ehd.dtypes"
   ]
  },
  {
   "cell_type": "code",
   "execution_count": null,
   "metadata": {},
   "outputs": [],
   "source": [
    "Apache_ehd['Year'] = Apache_ehd['Year'].astype('int')\n",
    "Apache_ehd.set_index('Year', inplace=True)"
   ]
  },
  {
   "cell_type": "code",
   "execution_count": null,
   "metadata": {},
   "outputs": [
    {
     "data": {
      "text/html": [
       "<div>\n",
       "<style scoped>\n",
       "    .dataframe tbody tr th:only-of-type {\n",
       "        vertical-align: middle;\n",
       "    }\n",
       "\n",
       "    .dataframe tbody tr th {\n",
       "        vertical-align: top;\n",
       "    }\n",
       "\n",
       "    .dataframe thead th {\n",
       "        text-align: right;\n",
       "    }\n",
       "</style>\n",
       "<table border=\"1\" class=\"dataframe\">\n",
       "  <thead>\n",
       "    <tr style=\"text-align: right;\">\n",
       "      <th></th>\n",
       "      <th>Number Extreme Heat Days</th>\n",
       "    </tr>\n",
       "    <tr>\n",
       "      <th>Year</th>\n",
       "      <th></th>\n",
       "    </tr>\n",
       "  </thead>\n",
       "  <tbody>\n",
       "    <tr>\n",
       "      <th>2011</th>\n",
       "      <td>19</td>\n",
       "    </tr>\n",
       "    <tr>\n",
       "      <th>2012</th>\n",
       "      <td>19</td>\n",
       "    </tr>\n",
       "    <tr>\n",
       "      <th>2013</th>\n",
       "      <td>18</td>\n",
       "    </tr>\n",
       "    <tr>\n",
       "      <th>2014</th>\n",
       "      <td>5</td>\n",
       "    </tr>\n",
       "    <tr>\n",
       "      <th>2015</th>\n",
       "      <td>18</td>\n",
       "    </tr>\n",
       "    <tr>\n",
       "      <th>2016</th>\n",
       "      <td>16</td>\n",
       "    </tr>\n",
       "    <tr>\n",
       "      <th>2017</th>\n",
       "      <td>16</td>\n",
       "    </tr>\n",
       "    <tr>\n",
       "      <th>2018</th>\n",
       "      <td>31</td>\n",
       "    </tr>\n",
       "    <tr>\n",
       "      <th>2019</th>\n",
       "      <td>23</td>\n",
       "    </tr>\n",
       "    <tr>\n",
       "      <th>2020</th>\n",
       "      <td>38</td>\n",
       "    </tr>\n",
       "    <tr>\n",
       "      <th>2021</th>\n",
       "      <td>24</td>\n",
       "    </tr>\n",
       "  </tbody>\n",
       "</table>\n",
       "</div>"
      ],
      "text/plain": [
       "      Number Extreme Heat Days\n",
       "Year                          \n",
       "2011                        19\n",
       "2012                        19\n",
       "2013                        18\n",
       "2014                         5\n",
       "2015                        18\n",
       "2016                        16\n",
       "2017                        16\n",
       "2018                        31\n",
       "2019                        23\n",
       "2020                        38\n",
       "2021                        24"
      ]
     },
     "execution_count": 82,
     "metadata": {},
     "output_type": "execute_result"
    }
   ],
   "source": [
    "Apache_ehd"
   ]
  },
  {
   "cell_type": "code",
   "execution_count": 83,
   "metadata": {},
   "outputs": [
    {
     "data": {
      "image/png": "[encoded data removed]",
      "text/plain": [
       "<Figure size 640x480 with 1 Axes>"
      ]
     },
     "metadata": {},
     "output_type": "display_data"
    }
   ],
   "source": [
    "# Use Pandas Plotting with Matplotlib to plot the data\n",
    "## Create the first bar chart with the Pandas DataFrame.plot() method.\n",
    "apache_plot  = Apache_ehd.plot(ylim=(0,50), title = \"Extreme Temps\", rot = 45)\n",
    "\n",
    "# Give our chart some labels and a tile\n",
    "apache_plot.set_xlabel(\"Year\")\n",
    "apache_plot.set_ylabel(\"Extreme Heat Days\")\n",
    "\n",
    "#plt.savefig(\"Images/precipitation_bar.png\")\n",
    "plt.show()"
   ]
  },
  {
   "cell_type": "code",
   "execution_count": 69,
   "metadata": {},
   "outputs": [],
   "source": [
    "# But we want the user to select the county"
   ]
  },
  {
   "cell_type": "code",
   "execution_count": null,
   "metadata": {},
   "outputs": [],
   "source": [
    "# All data into list\n"
   ]
  }
 ],
 "metadata": {
  "kernelspec": {
   "display_name": "base",
   "language": "python",
   "name": "python3"
  },
  "language_info": {
   "codemirror_mode": {
    "name": "ipython",
    "version": 3
   },
   "file_extension": ".py",
   "mimetype": "text/x-python",
   "name": "python",
   "nbconvert_exporter": "python",
   "pygments_lexer": "ipython3",
   "version": "3.9.13"
  },
  "orig_nbformat": 4,
  "vscode": {
   "interpreter": {
    "hash": "439c704552df65c3383fb56707400a73ff4b7ba810a3d6a3ded7df387ea96364"
   }
  }
 },
 "nbformat": 4,
 "nbformat_minor": 2
}
